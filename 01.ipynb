{
 "cells": [
  {
   "cell_type": "markdown",
   "metadata": {},
   "source": [
    "## **Độ phức tạp thuật toán**\n"
   ]
  },
  {
   "cell_type": "markdown",
   "metadata": {},
   "source": [
    "BIG (O NOTATION): khi thiết kế đoạn code thực hiện hành động, phân tích độ tối ưu 1 thuật toán\n"
   ]
  },
  {
   "cell_type": "code",
   "execution_count": null,
   "metadata": {},
   "outputs": [],
   "source": []
  },
  {
   "cell_type": "markdown",
   "metadata": {},
   "source": [
    "1: Thuật toán là gì?\n",
    "\n",
    "Quy trình làm món ăn\n",
    "\n",
    "- chuẩn bị nguyên liệu: bò, pate, nấm, bột\n",
    "- Sơ chế, vệ sinh nguyên liệu\n",
    "- Làm công đoạn trước khi nấu (Cắt, Bọc, làm những bước chuẩn bị)\n",
    "- nấu ăn: làm bước a, làm bước b\n",
    "  -> Quy trình làm 1 món ăn\n",
    "  -> Các bước nhằm đạt đc mục đích làm món đó\n",
    "\n",
    "Quy trình mua hàng Tiki\n",
    "\n",
    "- Vào website\n",
    "- Tìm kiếm món hàng mình muốn mua\n",
    "- xem danh sách món hàng và chọn dựa trên tiền hay dựa trên chức năng\n",
    "- mua hàng, xác nhận thanh toán\n",
    "\n",
    "Điểm chung giữa 2 quy trình này là:\n",
    "\n",
    "- bước bắt đầu - bước kết thúc\n",
    "- mục tiêu rõ ràng\n",
    "\n",
    "Thuật toán: một tập hợp các bước có trình tự để đạt được một mục đích nào đó\n",
    "(giải quyết 1 vấn đề/bài toán)\n",
    "\n",
    "---\n",
    "\n",
    "Quan trọng những bước này điều về mục tiêu đó, không lung tung\n",
    "Vấn đề giải quyết trong toán là 1 bài toán\n",
    "Từ những quy trình này, người ta dịch nghĩa ra bài toán\n",
    "Thuật toán k phải toán hay logic -> nó phải là 1 quy trình các bước đạt được mục tiêu\n"
   ]
  },
  {
   "cell_type": "markdown",
   "metadata": {},
   "source": [
    "Mục đích của thuật toán: tìm ra phương án tối ưu nhất (tốc độ + không gian)\n"
   ]
  },
  {
   "cell_type": "markdown",
   "metadata": {},
   "source": [
    "2. Có biết gì về BigO không? (Làm sao biết thuật toán có phức tạp hay không?)\n",
    "   xác định độ phức tạp của thuật toán\n",
    "\n",
    "2 kiến thức cần lưu ý:\n",
    "2 thứ ảnh hướng đến độ phức tạp thuật toán: tốc độ (speed) và không gian (space):\n",
    "\n",
    "Không dựa vào code dài bao nhiêu, khó nhìn bao nhiêu hay phức tạp. Phức tạp ở đây là:\n",
    "Thuật toán có đáp ứng về tốc độ và không gian không?\n"
   ]
  },
  {
   "cell_type": "markdown",
   "metadata": {},
   "source": [
    "3. Tại sao cần biết về BigO?\n",
    "   BigO là nền tảng là thước đo, chuẩn mực để xác định đoạn code tối ưu như thế nào?\n",
    "\n",
    "Đoạn code này nhanh hơn hay tiết kiệm so với đoạn code kia thì không thể nào làm thuật toán đc\n"
   ]
  },
  {
   "cell_type": "markdown",
   "metadata": {},
   "source": [
    "Tại sao BigO ra đời?\n",
    "\n",
    "1 phần mềm có thể vài chục nghìn file code, 1 file vài triệu -> bình thường\n",
    "Ứng dụng ngày càng phát triển -> chất lượng code ngày càng tăng trưởng -> cần thước đo để đo\n",
    "Làm sao biết úng dụng tối ưu không (đáp ứng nhu cầu thời gian và không gian (tốn dung lượng?)) không?\n",
    "Dựa trên yếu tố đó sinh ra BigO?\n"
   ]
  },
  {
   "cell_type": "markdown",
   "metadata": {},
   "source": [
    "https://www.freecodecamp.org/news/big-o-cheat-sheet-time-complexity-chart/\n",
    "\n",
    "BigO có bao nhiêu loại?\n",
    "\n",
    "- Chiều dọc -> số lần thực thi 1 đoạn code\n",
    "  vd: + a = 3 + b = 4 + c = a + b -> máy thực thi 3 lần (3 dòng code)\n",
    "  => Số lần trung bình thực hiện được\n",
    "- chiều ngang: những yếu tố tác động dòng code\n",
    "\n",
    "  - hàm số (constant)\n",
    "  - đầu vào (input)\n",
    "  - thuật toán sử dụng (cấp đoạn code thực thi)\n",
    "\n",
    "- 6 mốc:\n",
    "  - 6 cấp độ độ phức tạp thuật toán (sắp xếp nhỏ đến lớn)\n",
    "    O(1), O(log n), O(n), O(n log N), O (n^2), O(2^n), O(n!)\n",
    "    xanh: độ tối ưu đang tốt (nhanh)\n",
    "    đỏ: càng tệ (lâu)\n"
   ]
  },
  {
   "cell_type": "markdown",
   "metadata": {},
   "source": [
    "Độ phức tạp O(C)?\n",
    "\n",
    "a = 0 # 1\n",
    "while (a < 100000): #100000\n",
    "a = a + 1 #100000\n",
    "\n",
    "a : 0  \n",
    " 0 = 0 + 1 = 1 < 100000\n",
    "\n",
    "a = 100000 < 100000 -> dừng\n",
    "\n",
    "Số lần chạy: 200001 lần -> O(1)\n",
    "\n",
    "constant: 100000\n",
    "=> vòng lặp so sánh với 1 hằng số: BigO quy định luôn khi gặp hằng số thì BigO là O(1) (nhanh nhất)\n",
    "\n",
    "Không có n, a gì cả => a là thực thi thì không có tính vô lần chạy\n"
   ]
  },
  {
   "cell_type": "markdown",
   "metadata": {},
   "source": [
    "Độ phức tạp O(n)?\n",
    "\n",
    "a = 0 # 1 lần\n",
    "while (a < n): # n lần\n",
    "a = a + 1 # n lần\n",
    "\n",
    "n không cố định, tuỳ thuộc vào ng dùng cho bao nhiêu, a chạy bấy nhiêu lần\n",
    "\n",
    "TH1: n = 0 -> 1 lần -> O(1)\n",
    "TH2: n = 1 -> 3 lần -> O(1)\n",
    "TH3: n > 1 (trung bình n = 100) -> 2n + 1\n",
    "\n",
    "lúc này đã ra được O(n) thì trước hết phải Loại bỏ hằng số\n",
    "F(n) = 2n + 1 = 2n, -> n (Loại bỏ hằng số )\n",
    "\n",
    "Độ phức tạp thuật toán không tính một cách chi tiết, n = 1 thì thằng này chạy 3 lần, ng ta tính trong trường hợp trung bình n = 100 đoạn code chạy trong 1 khoảng bao nhiêu lần?\n",
    "-> O(n)\n",
    "\n",
    "Ví dụ như học trên đại học, mn hay học logic là cứ nhìn theo vòng lặp thì O(n), vậy sao nó là O(n) k? đây là 1 điều rất dễ nhầm lẫn\n"
   ]
  },
  {
   "cell_type": "markdown",
   "metadata": {},
   "source": [
    "Quan trọng: Số lần chạy mới quy ra được độ phức tạp thuật toán\n"
   ]
  },
  {
   "cell_type": "markdown",
   "metadata": {},
   "source": [
    "Độ phức tạp O(n)?\n",
    "\n",
    "a = 0 # 1 lần\n",
    "while (a < n): # n/10\n",
    "a = a + 10 # n/10\n",
    "\n",
    "Th1: n <= 10 -> 3 lần -> O(1)\n",
    "TH2: n > 10 (TB n = 100 lần) -> a không chạy theo 100\n",
    "a = 0, a < 100 -> a = 10\n",
    "a = 10, a < 100 -> a = 20\n",
    "...\n",
    "\n",
    "Số lần chạy F(n) = 1 + 2n/10\n",
    "độ phức tạp của thuật toán (Time Complexity) O(n)\n"
   ]
  },
  {
   "cell_type": "markdown",
   "metadata": {},
   "source": [
    "Nãy giờ có điều đặc biệt nãy giờ là chia trường hợp\n",
    "\n",
    "Xem thuật toán có tối ưu không? mn nên biết khái niệm về 3 trường hợp\n",
    "\n",
    "- TH1: Best case (trong điều kiện tốt nhất)\n",
    "  vd:\n",
    "  a = 0 # 1 lần\n",
    "  while (a < n): # n lần\n",
    "  a = a + 1 # n lần\n",
    "\n",
    "=> tốt nhất khi là n=0, O(1)\n",
    "\n",
    "- TH2: Worst case (trong điều kiện tệ nhất): thuật toán nhận input tệ hơn bình thường\n",
    "  -> khiến chương trình chạy lâu nhất\n",
    "\n",
    "a = 0 # 1 lần\n",
    "while (a < n): # n/10\n",
    "a = a + 10 # n/10\n",
    "\n",
    "TB n = 1.000.000\n",
    "\n",
    "- Th3: Average case (trong điều kiện trung bình)\n",
    "  n = 1 giá trị nào đó vừa đủ để tính đc độ phức tạp thuật toán\n",
    "\n",
    "=> Thuật toán chạy bao nhiêu lần?\n",
    "\n",
    "Tốc độ thực thi thực toán: Time Complexity\n"
   ]
  },
  {
   "cell_type": "markdown",
   "metadata": {},
   "source": [
    "Space Complexity (không gian được tính là mỗi lần tạo biến mới được tính vào độ phức tạp không gian)\n",
    "[1 lần tạo biến là cập nhật số lần của độ phức tạp không gian ]\n",
    "a = 0\n",
    "while (a < n):\n",
    "a = a + 10\n",
    "\n",
    "Space Complexity = 2 (lý do có 2 biến a và n) => O(1)\n",
    "\n",
    "Cập nhật giá trị tính vào Time Complexity -> vì bộ nhớ k tạo thêm biến chỉ câp nhật giá trị thôi\n"
   ]
  },
  {
   "cell_type": "markdown",
   "metadata": {},
   "source": [
    "Người ta bỏ qua hàm số không ảnh hưởng số lần chạy\n",
    "\n",
    "- 90 lần hay 120 lần thì chênh lệch với số lần k phải là thứ ảnh hưởng nhiều đến tốc độ\n"
   ]
  },
  {
   "cell_type": "markdown",
   "metadata": {},
   "source": [
    "S = 1 + 2 + ...+ N\n",
    "\n",
    "def sum(n):\n",
    "total = 0 # 1 lần\n",
    "for x in range(0, n): # n lần\n",
    "total +=x # n lần\n",
    "return total\n",
    "\n",
    "F(n) = 2n + 1\n",
    "Độ phức tạp: O(n)\n"
   ]
  },
  {
   "cell_type": "markdown",
   "metadata": {},
   "source": [
    "S = 1 + 2 + ...+ N\n",
    "\n",
    "def Sum(n):\n",
    "return n\\*(n-1) /2 -> chạy đúng 1 lần\n",
    "\n",
    "F(n): 1\n",
    "Độ phức tạp là O(1)\n",
    "=> chạy nhanh hơn\n"
   ]
  },
  {
   "cell_type": "markdown",
   "metadata": {},
   "source": [
    "## độ phức tạp O(n^2)\n"
   ]
  },
  {
   "cell_type": "markdown",
   "metadata": {},
   "source": [
    "a = 0 #1 lần\n",
    "b = 0 #1 lần\n",
    "for i int range (0, n): # 1 lần\n",
    "for j in range(0,n): # 1 lần\n",
    "a++\n",
    "b++\n",
    "\n",
    "## i 1 lần -> j n lần\n",
    "\n",
    "a = 0 #1 lần\n",
    "b = 0 #1 lần\n",
    "n = 5\n",
    "for i int range (0, n): # 1 lần #i = 0 # n lần\n",
    "for j in range(0,n): # 1 lần # j = 0 j = 1 n^2 lần\n",
    "a++ #1 lần a = 2 #2 lần ... # 5 lần \\*\\*# n^2 lần\n",
    "b++ #1 lần a = 2 #2 lần # 5 lần n^2 lần\n",
    "\n",
    "-> i n lần -> j n\\*n lần\n",
    "\n",
    "F(n) = 3n^2 + n + 2\n",
    "\n",
    "Độ phức tạp thuật toán (Time Complexity): n^2 + n => O(n^2)\n",
    "\n",
    "BigO lấy giá trị n độ phức tap lớn nhất:\n",
    "\n",
    "Space Complexity: n+3 => O(n)\n",
    "a = 0 # tạo 1\n",
    "b = 0 # tạo 1\n",
    "n = 5 # tạo 1\n",
    "for i int range (0, n): # tạo n\n",
    "for j in range(0,n):\n",
    "a++\n",
    "b++\n",
    "\n",
    "Tạo biến thêm vào bộ nhớ\n",
    "\n",
    "- tạo ra được 2 biến\n",
    "- i này tạo 1 lần\n",
    "  -> j tạo 1\n",
    "  cứ qua vòng lặp mới thì phải tạo lại j từ đầu\n"
   ]
  },
  {
   "cell_type": "markdown",
   "metadata": {},
   "source": [
    "Syntax vòng lặp, bắt đầu chu trình mới thì tạo ra biến bắt đầu lại từ đầu\n"
   ]
  },
  {
   "cell_type": "markdown",
   "metadata": {},
   "source": [
    "a = 0 # 1 lần\n",
    "b = 0 # 1 lần\n",
    "\n",
    "                # n=5\n",
    "\n",
    "for i in range(0,n): # i = 0 -> 4\n",
    "if (a<10): # 5 lần (hành động câu điều kiện là so sánh)\n",
    "a++ # 5 lần\n"
   ]
  }
 ],
 "metadata": {
  "kernelspec": {
   "display_name": "Python 3",
   "language": "python",
   "name": "python3"
  },
  "language_info": {
   "codemirror_mode": {
    "name": "ipython",
    "version": 3
   },
   "file_extension": ".py",
   "mimetype": "text/x-python",
   "name": "python",
   "nbconvert_exporter": "python",
   "pygments_lexer": "ipython3",
   "version": "3.8.19"
  }
 },
 "nbformat": 4,
 "nbformat_minor": 2
}
