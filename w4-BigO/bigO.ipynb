{
 "cells": [
  {
   "cell_type": "code",
   "execution_count": null,
   "metadata": {},
   "outputs": [],
   "source": [
    "Độ phức tạp của thuật toán\n",
    "\n",
    "BIG O (O Notation) : khi thiết kế đoạn code, thực hiện hành động, phân tích độ tối ưu của 1 thuật toán "
   ]
  },
  {
   "cell_type": "markdown",
   "metadata": {},
   "source": [
    "1. Thuật toán là gì?\n",
    "\n",
    "\n",
    "Quy trình mua hàng shoppe\n",
    "1. Vô trang shoppee\n",
    "2. Tìm kiếm món hàng mình muốn mua\n",
    "3. Chọn loại tính tiền\n",
    "4. Mua hàng, xác nhận đơn hàng\n",
    "\n",
    "Quy trình làm món thịt kho hột vịt\n",
    "1. Chuẩn bị nguyên liệu: thịt, trứng\n",
    "2. Sơ chế \n",
    "3. Nấu ăn\n",
    "\n",
    "Thuật toán là các bước có trình tự -> để đặt được mục đích nào đó (giải quyết 1 vấn đề/bài toán)"
   ]
  },
  {
   "cell_type": "markdown",
   "metadata": {},
   "source": [
    "Mục đích của thuật toán là gì?\n",
    "-> tìm ra phương án tối ưu nhất \n"
   ]
  },
  {
   "cell_type": "markdown",
   "metadata": {},
   "source": [
    "Biết gì về BigO?\n",
    "BigO là thước đo xem đoạn code nhanh chưa, tiết kiệm so với các đoạn code khác hay không?\n"
   ]
  },
  {
   "cell_type": "markdown",
   "metadata": {},
   "source": [
    "Tại sao BIgO la đời?\n",
    "\n",
    "Mức độ phức tạp thuật toán\n",
    "- Time Complexity \n",
    "- Space Complexity\n"
   ]
  },
  {
   "cell_type": "code",
   "execution_count": null,
   "metadata": {},
   "outputs": [],
   "source": [
    "3 vấn đề trong BigO?\n",
    "- hằng số (constant)\n",
    "- đầu vào (input)\n",
    "- thuật toán sử dụng "
   ]
  },
  {
   "cell_type": "code",
   "execution_count": null,
   "metadata": {},
   "outputs": [],
   "source": [
    "a = 0  # 1 lần chạy \n",
    "while (a<100000): # 100000 lần chạy\n",
    "    a = a + 1 # 100000 lần chạy\n",
    "\n",
    "\n",
    "a = 0 # 1 lần \n",
    "0 < 1: 1 lần \n",
    "    a = 1\n",
    "\n",
    "Độ phưc tạp thuật toán: O(1)\n",
    "\n",
    "\n",
    "\n",
    "n = 3 -> 3 lần \n",
    "a = 0\n",
    "0 < 3:\n",
    "    a = 1\n",
    "\n",
    "a = 1\n",
    "1 < 3\n",
    "    a = 2\n",
    "\n",
    "a = 2\n",
    "2 < 3\n",
    "    a = 3\n",
    "\n",
    "a = 3\n",
    "3 < 3: dừng \n"
   ]
  },
  {
   "cell_type": "code",
   "execution_count": null,
   "metadata": {},
   "outputs": [],
   "source": [
    "a = 0  # 1 lần chạy \n",
    "while (a<n): # n lần chạy\n",
    "    a = a + 1 # n lần chạy\n",
    "\n",
    "\n",
    "F(n) = 1 + 2n  = 2n = n\n",
    "\n",
    "Độ phức tạp thuật toán O(n)\n",
    "\n"
   ]
  },
  {
   "cell_type": "code",
   "execution_count": null,
   "metadata": {},
   "outputs": [],
   "source": [
    "Khái niệm về scenario case: \n",
    "- TH1: Best case (đièu kiện tốt nhất)\n",
    " -> O(1)\n",
    "\n",
    "-TH2: average case (điều kiện trung bình)\n",
    "\n",
    "- Th3: Worst case (điều kiện xấu nhất)\n",
    "-> O(n)"
   ]
  },
  {
   "cell_type": "code",
   "execution_count": null,
   "metadata": {},
   "outputs": [],
   "source": [
    "a = 0 \n",
    "while (a<n): \n",
    "    a = a+10\n",
    "\n",
    "\n",
    "TH1: n <= 10: 3 lần => O(1)\n",
    "a = 0\n",
    "0 < 10:\n",
    "    a = 10\n",
    "\n",
    "a = 10\n",
    "10 <= 10:\n",
    "    a = 20\n",
    "\n",
    "a = 20\n",
    "20 <= 10: dừng\n",
    "\n",
    "TH2: n > 10 (TB n = 100)\n",
    "a = 0 # 1 lần chạy\n",
    "while (a<n):  # n/10 lần\n",
    "    a = a+10 # n/10 lần\n",
    "\n",
    "Time Complexity \n",
    "F(n) = 1 + 2n/10 = 2n/10 = n\n",
    "BigO = O(n)\n",
    " \n",
    "\n",
    "a = 0, a < 100, -> a = 10\n",
    "a = 10, a < 100 -> a = 20\n",
    "a = 20, a <100, -> a = 30\n",
    "\n",
    "\n"
   ]
  },
  {
   "cell_type": "markdown",
   "metadata": {},
   "source": [
    "Space complexity: không gian đc tính là mỗi lần biến mới đc tạo ra\n",
    "(Tốn dung lượng thì liên quan bộ nhớ không gian)\n",
    "\n",
    "T:\\\n",
    "    CTDLGT -> CTDLGT2\n",
    "    BigData \n"
   ]
  },
  {
   "cell_type": "markdown",
   "metadata": {},
   "source": [
    "2 biến (a và n)\n",
    "\n",
    "Space Complexity = O(1)\n",
    "\n",
    "\n",
    "Tốc độ máy tính hiện tại chênh lệch số lần không ảnh hưởng quá nhiều đến tốc độ\n"
   ]
  },
  {
   "cell_type": "markdown",
   "metadata": {},
   "source": [
    "C1: \n",
    "Tạo 1 hàm tính giá trị từ: S = 1+2+3+4+...+ N\n",
    "\n",
    "def Sum(n):\n",
    "    total = 0 \n",
    "    for x in range(0,n):\n",
    "        total += x\n",
    "    return total\n",
    "\n",
    "\n",
    "n = 5\n",
    "def Sum(n):\n",
    "    total = 0 # 1 lần\n",
    "    for x in range(0,n): # n lần\n",
    "        total += x         # n lần\n",
    "    return total\n",
    "\n",
    "\n",
    "-> F(n) = 1 + 2n\n",
    "-> Độ phức tạp là O(n)\n",
    "\n",
    "Đây không phải là cách tính duy nhất"
   ]
  },
  {
   "cell_type": "markdown",
   "metadata": {},
   "source": [
    "C2: Đây là cách dùng công thức\n",
    "\n",
    "Tạo 1 hàm tính giá trị từ: S = 1+2+3+4+...+ N\n",
    "\n",
    "def Sum(n):\n",
    "    return n*(n+1)/2 #1 lần chạy\n",
    "\n",
    "-> công thức tính số hạn từ 1-> n\n",
    "\n",
    "\n",
    "\n",
    "-> F(n) = 1\n",
    "-> Độ phức tạp là O(1)\n",
    "-> cách dưới chạy nhanh hơn\n",
    "\n",
    "-> 1 bài toán 2 cách làm khác nhau số lần khác nhau\n"
   ]
  },
  {
   "cell_type": "markdown",
   "metadata": {},
   "source": [
    "## Phức tạp O(n^2)"
   ]
  },
  {
   "cell_type": "markdown",
   "metadata": {},
   "source": [
    "a = 0\n",
    "b = 0\n",
    "for i in range(0,n):\n",
    "    for j in range(0,n):\n",
    "        a++\n",
    "        b++\n",
    "\n",
    "Thông thường mình hay thấy người ta hay nói là có 2 vòng lặp lồng vào nhau thì là O(n^2) \n",
    "\n",
    "\n",
    "a = 0 # 1 lần\n",
    "b = 0 # 1 lần\n",
    "for i in range(0,n): # n lần\n",
    "    for j in range(0,n): # n^2 lần j = 4\n",
    "        a++ # 5 lần # n^2 lần\n",
    "        b++ # 5 lần # n^2 lần\n",
    "\n",
    "        -> nằm trong vòng lặp con\n",
    "\n",
    "-> vòng lặp kép (vòng lặp này lồng vòng lặp khác)\n",
    "\n",
    "F(n) = 3n^2 + n + 2 \n",
    "Độ phức tạp thuật toán (Time complexity): O(n^2)\n",
    "Độ phức tạp thuật toán (Space Complexity): \n",
    "    a = 0 # 1 lần\n",
    "    b = 0 # 1 lần\n",
    "    for i in range(0,n): # 1 lần\n",
    "        for j in range(0,n): qua vòng lặp mới phải tạo lại biến j # tao n lần\n",
    "\n",
    "Độ phức tạp thuật toán (Space Complexity): n + 3 -> O(n)\n",
    "\n",
    "---\n",
    "Đứng trên bộ nhớ cấp -> Reset lại o(1): đứng trên phương diện bộ nhớ\n",
    "\n",
    "Luật mỗi lần chạy phải khởi tạo lại, ngôn ngữ quy định lý thuyết vòng lặp chạy O(n): đứng trên phương diện thuật toán\n",
    "--- "
   ]
  },
  {
   "cell_type": "markdown",
   "metadata": {},
   "source": [
    "đối với if nó vẫn tính là 1 câu bình thường\n",
    "\n",
    "a = 0  # 1 lần\n",
    "b = 10 # 1 lần\n",
    "for i in range(0,n): # n=5, i =0->4\n",
    "    if a < 10: # 5 lần (câu này là so sánh-> vẫn tính 1 lần, thường nằm trong vòng lặp quy ra n lần)\n",
    "        a++ # 5 lần\n",
    "        \n",
    "\n",
    "Để ý vòng lặp\n",
    "\n",
    "a = 0  # 1 lần\n",
    "for i in range(0,n): # n lần\n",
    "    if (a != 0 AND a mod 2 == 0): # chạy tuỳ theo vòng lặp \n",
    "        break # phá vòng lặp\n",
    "    else:\n",
    "        a++\n",
    "----\n",
    "n = 10\n",
    "i= 0\n",
    "if (a != 0 AND a mod 2 == 0): # 1 lần\n",
    "if i = 0, break # 0 lần\n",
    "else: # 1 lần, a = 1\n",
    "\n",
    "i = 1\n",
    "if (a != 0 AND a mod 2 == 0): # 2 lần\n",
    "if i = 1, break # 0 lần\n",
    "else: # 1 lần, a = 2 # 1 lần\n",
    "\n",
    "i = 2\n",
    "if (a != 0 AND a mod 2 == 0): # 3 lần\n",
    "if i = 0, break # 1 lần -> dừng vòng lặp luôn, thoát chương trình\n",
    "else: # 2 lần, a = 2 # 2 lần\n",
    "\n",
    "F(n) = 12 lần -> O(1) (tính số lần thực thi thôi, không dính tới n)\n",
    "\n",
    "---\n",
    "Tạo 2 biến a và i nên Space complexity = O(1)"
   ]
  },
  {
   "cell_type": "markdown",
   "metadata": {},
   "source": [
    "# thêm 1 vòng lặp kép thì sao\n",
    "n=5\n",
    "a = 0 # 1 lần\n",
    "for i in range(0,n): # 1 lần i =0\n",
    "    for j in range(0,n): # 1 lần j = 0\n",
    "        if (a!=0 AND a mod 2 == 0): # 1 lần\n",
    "            break\n",
    "        else: # 1 lần\n",
    "            a++ # 1 lần a = 1\n",
    "\n",
    "a = 0 # 1 lần\n",
    "for i in range(0,n): # 1 lần i =0\n",
    "    for j in range(0,n): # 2 lần j = 1\n",
    "        if (a!=0 AND a mod 2 == 0): # 2 lần\n",
    "            break\n",
    "        else: # 2 lần\n",
    "            a++ # 2 lần a = 2        \n",
    "\n",
    "a = 0 # 1 lần\n",
    "for i in range(0,n): # 1 lần i = 0\n",
    "    for j in range(0,n): # 3 lần, j = 2\n",
    "        if (a!=0 AND a mod 2 == 0): # 3 lần\n",
    "            break # 1 lần\n",
    "        else: # 2 lần\n",
    "            a++ # 2 lần a = 2          \n",
    "\n",
    "a = 0 # 1 lần\n",
    "for i in range(0,n): # 2 lần i = 1\n",
    "    for j in range(0,n): # 3+n lần, j = 2 -> lý do không cập nhật lại a nên break vẫn chạy\n",
    "        if (a!=0 AND a mod 2 == 0): # 3+n\n",
    "            break # 1+n lần\n",
    "        else: # 2 lần\n",
    "            a++ # 2 lần a = 2    \n",
    "\n",
    "        (n sẽ tương ứng với số lần duyệt\n",
    "        i = 0 , số 3 cho trường hợp chạy) \n",
    "\n",
    "Đừng nghĩ rằng vòng lặp lòng nhau là O(n^2) là sai\n",
    "F(n) = 2(3+n) + (1+n) + 4 + 1 = O(n)\n"
   ]
  },
  {
   "cell_type": "markdown",
   "metadata": {},
   "source": [
    "n=5\n",
    "a = 0 \n",
    "\n",
    "if (a!=0 AND a mod 2 == 0): # 1 lần\n",
    "    break\n",
    "else: # 1 lần\n",
    "    for i in range(0,n):  # n lần\n",
    "        for j in range(0,n): # n^2 lần\n",
    "            a++ # n^2 lần\n",
    "\n",
    "---\n",
    "if không làm ảnh hưởng vòng lặp\n",
    "2 vòng lặp phải chạy bình thường\n",
    "\n",
    "Vd trên là kiểm tra điều kiện và phá vòng lặp\n",
    "\n"
   ]
  },
  {
   "cell_type": "markdown",
   "metadata": {},
   "source": [
    "for x in range(0,n)  --n lần\n",
    "    for a in range(0,x): n*(n+1)/2\n",
    "        # câu lệnh thực hiện n*(n+1)/2\n",
    "\n",
    "\n",
    "F(n) = n * 2(n+1)/2 + n\n",
    "Độ phức tạp là O(n^2)"
   ]
  },
  {
   "cell_type": "markdown",
   "metadata": {},
   "source": [
    "for i in range(0,n): n^(1+a), a là số lần xuất hiện vòng lặp lồng nhau 90%\n",
    "    for j in range(0,n):\n",
    "\n",
    "\n",
    "3 vòng lặp thì có 2 vòng lặp vòng nhau thì là n^(1+2) = n^3"
   ]
  },
  {
   "cell_type": "markdown",
   "metadata": {},
   "source": [
    "## độ phức tạp O(logN)"
   ]
  },
  {
   "cell_type": "code",
   "execution_count": null,
   "metadata": {},
   "outputs": [],
   "source": [
    "a = 1\n",
    "while (a<n):\n",
    "    a = a*2\n",
    "\n",
    "\n",
    "mẹo:\n",
    "LogN -> không bao giờ chạy hết tất cả trường hợp (Thường chạy khoảng 1/2 trường hợp)\n",
    "\n",
    "n =4\n",
    "a = 1 # 1 lần\n",
    "while (a<n): # 1 lần  (1<4)\n",
    "    a = a*2  # 1 lần (a=2) \n",
    "    a = a+1\n",
    "\n",
    "a = 2 # 2 lần\n",
    "while (a<n): # 2 lần \n",
    "    a = a*2  # 2 lần (a=4) (1->2->4->8->16)\n",
    " \n",
    "n = 4, a chạy 2 lần\n",
    "F(n) = 1 + 2+ 2 = 5 lần (bỏ qua 1 số trường hợp vậy nó là log)\n",
    "\n",
    "Công thức luôn\n",
    "F(n) = Olog(N)\n",
    "log cơ số 2 \n",
    "\n"
   ]
  },
  {
   "cell_type": "markdown",
   "metadata": {},
   "source": [
    "KHi nào Olog(N^2) -> Hiếm khi có trường hợp Log(N^2)\n",
    "\n",
    "Logarit \n",
    "Không bao giờ gặp trương hợp này\n",
    "\n",
    "\n",
    "\n",
    "---\n",
    "Toán học bình thường: log cơ số 10\n",
    "Thuật toán log cơ số 2\n"
   ]
  },
  {
   "cell_type": "markdown",
   "metadata": {},
   "source": [
    "## Lưu ý\n",
    "Học bigO trước thuật toán sắp xếp để mình biết cách tại sao thuật toán này nhanh hơn thuật toán khác"
   ]
  },
  {
   "cell_type": "markdown",
   "metadata": {},
   "source": [
    "O(2^n) -> subset (tìm cặp giống nhau, hoặc là 2 số * = nhau)\n",
    "O(n!) -> liên quan đệ quy\n",
    "O(N log N) thuật toán sắp xếp (Quick và merge sort)\n",
    "\n",
    "O(n!), O(2^n): người ta k bao giờ cho này, vì nó rất cổ điển\n",
    "\n",
    "Bài toán tháp hà nội, bài toán liên quan đệ quy\n",
    "\n",
    "Team building có chơi trò này chưa, mình sẽ lấy từng miếng ra O(n!)"
   ]
  },
  {
   "cell_type": "markdown",
   "metadata": {},
   "source": [
    "Bài toán độ phức tạp\n",
    "\n",
    "Đề 1: Tìm số lớn nhất trong 1 mảng \n",
    "-input: nums = [0,2,5,10,3,7,9]\n",
    "-output: 10\n",
    "Đề 2: Viết 1 đoạn code, tìm số lớn thứ nhì trong 1 mảng (mảng đã được sắp xếp)\n",
    "\n",
    "Yêu cầu:\n",
    "\n",
    "- Code (dùng cái syntax cơ bản nhất cho 3 trường hợp)\n",
    "- Phân tích độ phức tạp thuật toán"
   ]
  },
  {
   "cell_type": "markdown",
   "metadata": {},
   "source": [
    "#TODO: cách naive (thuần tuý)"
   ]
  },
  {
   "cell_type": "code",
   "execution_count": 3,
   "metadata": {},
   "outputs": [
    {
     "name": "stdout",
     "output_type": "stream",
     "text": [
      "số lớn nhất là:  20\n"
     ]
    }
   ],
   "source": [
    "# cần mình ở trong tình trạng không biết mình phải làm gi?\n",
    "# đừng tỏ ra biết, mình phải giả vờ, à em phải làm thế này.\n",
    "# trong buổi phỏng vấn thuật toán cũng giống vậy lun\n",
    "\n",
    "nums  = [0,2,5,10,3,20,7,9] # 1 lần\n",
    "largest = nums[0] # 1 lần\n",
    "for item in range(1, len(nums)): # vòng lặp 1 -> 7, không chạy n lần mà chạy n-1 (vì bỏ phần từ đầu tiên)\n",
    "    if nums[item] > largest: # n-1\n",
    "        largest = nums[item] # n-1\n",
    "\n",
    "print(\"số lớn nhất là: \", largest) # 1 lần\n",
    "\n",
    "#F(n) = 3(n-1) + 3 lần \n",
    "#-> Time complexity O(n)\n",
    "# tính 1 cách chung dựa trên thằng n \n",
    "\n",
    "# bài toán đúng là tốt, trung bình, tệ nhất\n",
    "# ? Best case:\n",
    "# khi số lớn nhất nằm vị trí đầu tiên hoặc cuối cùng của mảng (bên phải hoặc bên trái)\n",
    "# nums  = [20,2,5,10,3,7,9]\n",
    "# O(n) -> dùng mình có xét thì mình vẫn phải duyệt lại toàn bộ mảng\n",
    "\n",
    "# average case: số lớn nhất nằm ở giữa mảng\n",
    "# worst case: tuỳ thuộc vào bạn đặt nó ở đâu\n",
    "# chạy hết vòng lặp, số lớn nhất nằm ở cuối màng\n",
    "\n",
    "# -> ca3 3 điều đưa về O(n)\n",
    "# -> Thuật toán này tốt và tối ưu k?\n",
    "# có cách nào để mình tối ưu thuật toán này không?, làm sao tối ưu từ O(n) xuống k?\n",
    "\n",
    "# Nhà tuyển dụng muốn tìm phương án giảm xuống 1-2 cấp độ\n",
    "# O(logN) hoặc O(1) là tốt -> liên quan nhị phân hashtable\n",
    "# đồ thị là O(n^2)\n",
    "\n",
    "\n",
    "# thay vì tạo 1 biến largest, tạo thêm 1 con trỏ, \n",
    "# kiểm tra 1 số thì kiểm tra cả 2 số đồng thời luôn -> cải thiện 1 xíu thôi\n",
    "# chọn ra số lớn nhất thì mình mới duyệt vòng lặp\n",
    "# \n",
    "# nếu mình có thêm không gian thì mình kiểm tra 3 số luôn, nhưng mảng ngắn thôi\n",
    "\n",
    "\n",
    "# còn 1 cách nữa, tính ra về mặt lý thuyết tốt nhưng độ phức tạp lâu hơn\n",
    "# todo2: cách gần hay hơn  (thằng lớn nhất bên tay phải)\n",
    "# sắp xếp mảng trước -> Quick sort/merge sort (tốt nhất) -> Time Complexity O(LogN)\n",
    "# "
   ]
  },
  {
   "cell_type": "markdown",
   "metadata": {},
   "source": []
  }
 ],
 "metadata": {
  "kernelspec": {
   "display_name": "Python 3",
   "language": "python",
   "name": "python3"
  },
  "language_info": {
   "codemirror_mode": {
    "name": "ipython",
    "version": 3
   },
   "file_extension": ".py",
   "mimetype": "text/x-python",
   "name": "python",
   "nbconvert_exporter": "python",
   "pygments_lexer": "ipython3",
   "version": "3.9.6"
  }
 },
 "nbformat": 4,
 "nbformat_minor": 2
}
