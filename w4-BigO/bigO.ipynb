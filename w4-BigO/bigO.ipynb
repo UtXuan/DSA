{
 "cells": [
  {
   "cell_type": "code",
   "execution_count": null,
   "metadata": {},
   "outputs": [],
   "source": [
    "Độ phức tạp của thuật toán\n",
    "\n",
    "BIG O (O Notation) : khi thiết kế đoạn code, thực hiện hành động, phân tích độ tối ưu của 1 thuật toán "
   ]
  },
  {
   "cell_type": "markdown",
   "metadata": {},
   "source": [
    "1. Thuật toán là gì?\n",
    "\n",
    "\n",
    "Quy trình mua hàng shoppe\n",
    "1. Vô trang shoppee\n",
    "2. Tìm kiếm món hàng mình muốn mua\n",
    "3. Chọn loại tính tiền\n",
    "4. Mua hàng, xác nhận đơn hàng\n",
    "\n",
    "Quy trình làm món thịt kho hột vịt\n",
    "1. Chuẩn bị nguyên liệu: thịt, trứng\n",
    "2. Sơ chế \n",
    "3. Nấu ăn\n",
    "\n",
    "Thuật toán là các bước có trình tự -> để đặt được mục đích nào đó (giải quyết 1 vấn đề/bài toán)"
   ]
  },
  {
   "cell_type": "markdown",
   "metadata": {},
   "source": [
    "Mục đích của thuật toán là gì?\n",
    "-> tìm ra phương án tối ưu nhất \n"
   ]
  },
  {
   "cell_type": "markdown",
   "metadata": {},
   "source": [
    "Biết gì về BigO?\n",
    "BigO là thước đo xem đoạn code nhanh chưa, tiết kiệm so với các đoạn code khác hay không?\n"
   ]
  },
  {
   "cell_type": "markdown",
   "metadata": {},
   "source": [
    "Tại sao BIgO la đời?\n",
    "\n",
    "Mức độ phức tạp thuật toán\n",
    "- Time Complexity \n",
    "- Space Complexity\n"
   ]
  },
  {
   "cell_type": "code",
   "execution_count": null,
   "metadata": {},
   "outputs": [],
   "source": [
    "- hằng số (constant)\n",
    "- đầu vào (input)\n",
    "- thuật toán sử dụng "
   ]
  },
  {
   "cell_type": "code",
   "execution_count": null,
   "metadata": {},
   "outputs": [],
   "source": [
    "a = 0  # 1 lần chạy \n",
    "while (a<100000): # 100000 lần chạy\n",
    "    a = a + 1 # 100000 lần chạy\n",
    "\n",
    "\n",
    "a = 0 # 1 lần \n",
    "0 < 1: 1 lần \n",
    "    a = 1\n",
    "\n",
    "Độ phưc tạp thuật toán: O(1)\n",
    "\n",
    "\n",
    "\n",
    "n = 3 -> 3 lần \n",
    "a = 0\n",
    "0 < 3:\n",
    "    a = 1\n",
    "\n",
    "a = 1\n",
    "1 < 3\n",
    "    a = 2\n",
    "\n",
    "a = 2\n",
    "2 < 3\n",
    "    a = 3\n",
    "\n",
    "a = 3\n",
    "3 < 3: dừng \n"
   ]
  },
  {
   "cell_type": "code",
   "execution_count": null,
   "metadata": {},
   "outputs": [],
   "source": [
    "a = 0  # 1 lần chạy \n",
    "while (a<n): # n lần chạy\n",
    "    a = a + 1 # n lần chạy\n",
    "\n",
    "\n",
    "F(n) = 1 + 2n  = 2n = n\n",
    "\n",
    "Độ phức tạp thuật toán O(n)\n",
    "\n"
   ]
  },
  {
   "cell_type": "code",
   "execution_count": null,
   "metadata": {},
   "outputs": [],
   "source": [
    "big O\n",
    "- TH1: Best case (đièu kiện tốt nhất)\n",
    " -> O(1)\n",
    "\n",
    "-TH2: average case (điều kiện trung bình)\n",
    "\n",
    "- Th3: Worst case (điều kiện xấu nhất)\n",
    "-> O(n)"
   ]
  },
  {
   "cell_type": "code",
   "execution_count": null,
   "metadata": {},
   "outputs": [],
   "source": [
    "a = 0 \n",
    "while (a<n): \n",
    "    a = a+10\n",
    "\n",
    "\n",
    "TH1: n <= 10: 3 lần => O(1)\n",
    "a = 0\n",
    "0 < 10:\n",
    "    a = 10\n",
    "\n",
    "a = 10\n",
    "10 <= 10:\n",
    "    a = 20\n",
    "\n",
    "a = 20\n",
    "20 <= 10: dừng\n",
    "\n",
    "TH2: n > 10 (TB n = 100)\n",
    "a = 0 # 1 lần chạy\n",
    "while (a<n):  # n/10 lần\n",
    "    a = a+10 # n/10 lần\n",
    "\n",
    "Time Complexity \n",
    "F(n) = 1 + 2n/10 = 2n/10 = n\n",
    "BigO = O(n)\n",
    " \n",
    "\n",
    "a = 0, a < 100, -> a = 10\n",
    "a = 10, a < 100 -> a = 20\n",
    "a = 20, a <100, -> a = 30\n",
    "\n",
    "\n"
   ]
  },
  {
   "cell_type": "markdown",
   "metadata": {},
   "source": [
    "Space complexity: không gian đc tính là mỗi lần biến mới đc tạo ra\n",
    "\n",
    "T:\\\n",
    "    CTDLGT -> CTDLGT2\n",
    "    BigData \n"
   ]
  },
  {
   "cell_type": "markdown",
   "metadata": {},
   "source": [
    "a \n",
    "n \n",
    "\n",
    "Space Complexity =  \n",
    "chênh lêch số lần k \n",
    "\n",
    "O(1)\n",
    "\n"
   ]
  },
  {
   "cell_type": "code",
   "execution_count": null,
   "metadata": {},
   "outputs": [],
   "source": [
    "\n",
    "O(n^2)"
   ]
  },
  {
   "cell_type": "markdown",
   "metadata": {},
   "source": [
    "a = 0 \n",
    "while (a<n): \n",
    "    a = a+10"
   ]
  }
 ],
 "metadata": {
  "language_info": {
   "name": "python"
  }
 },
 "nbformat": 4,
 "nbformat_minor": 2
}
