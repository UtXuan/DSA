{
 "cells": [
  {
   "cell_type": "markdown",
   "metadata": {},
   "source": [
    "1. Học Viên\n",
    "- đối tượng: HocVien(maHV, tenHV, ngaySinh, khoaHoc)\n",
    "- Phương thức:\n",
    "  - dangKyKhoaHoc(khoaHoc): đăng ký khoá học mới\n",
    "  - hienThiKhoaHoc():hiển thị danh sách khoá học đã đăng ký\n",
    "\n",
    "2. Khoá học:\n",
    "- đối tượng: KhoaHoc(maKhoaHoc, tenKhoaHoc, hinhThuc, hocPhi)\n",
    "- Phương thức:\n",
    "  - thongTinKhoaHoc():hiển thị thông tin khoá học\n",
    "\n",
    "Yêu cầu:\n",
    "- Tạo các lớp đối tượng cho học viên, khoá học\n",
    "- Định nghĩa các phương thức theo yêu cầu\n",
    "- Tạo một số đối tượng (ít nhất 2 học viên, 2 khoá học) và thưc hiện một số thao tác\n",
    "  (đăng ký khoá học, hiển thị khoá học). Học viên có thể mở rộng tính năng ứng dụng\n"
   ]
  },
  {
   "cell_type": "code",
   "execution_count": 2,
   "metadata": {},
   "outputs": [],
   "source": [
    "class KhoaHoc:\n",
    "    def __init__(self, maKhoaHoc, tenKhoaHoc, hinhThuc, hocPhi):\n",
    "        self.maKhoaHoc= maKhoaHoc\n",
    "        self.tenKhoaHoc = tenKhoaHoc\n",
    "        self.hinhThuc = hinhThuc\n",
    "        self.hocPhi = hocPhi\n",
    "\n",
    "    def InThongTinKH(self):\n",
    "        print(\"-- THÔNG TIN KHOÁ HỌC ---\")\n",
    "        print(f\"\\nMã khoá học: {self.maKhoaHoc}\") \n",
    "        print(f\"\\Tên khoá học: {self.tenKhoaHoc}\") \n",
    "        print(f\"\\nHình thức: {self.hinhThuc}\") \n",
    "        print(f\"\\nHọc phí: {self.hocPhi}\") "
   ]
  },
  {
   "cell_type": "code",
   "execution_count": 19,
   "metadata": {},
   "outputs": [],
   "source": [
    "class HocVien:\n",
    "    def __init__(self, maHV, tenHV, ngaySinh):\n",
    "        self.maHV= maHV\n",
    "        self.tenHV = tenHV\n",
    "        self.ngaySinh = ngaySinh\n",
    "        self.khoaHoc = []\n",
    "    \n",
    "    def dangKyKhoaHoc(self, khoaHoc):\n",
    "        if khoaHoc not in self.khoaHoc:\n",
    "            self.khoaHoc.append(khoaHoc)\n",
    "            print(f\"Học viên {self.tenHV} đã đăng ký khoá {khoaHoc.tenKhoaHoc} thành công\")\n",
    "        else:\n",
    "            print(f\"Học viên {self.tenHV} đã đăng ký khoá {khoaHoc.tenKhoaHoc} này rồi\")\n",
    "\n",
    "    def InToanBoThongTin(self):\n",
    "        if not self.khoaHoc:\n",
    "            print(f\"Học viên {self.tenHV} k đăng ký khoá nào cả\")\n",
    "        else: \n",
    "            # duyệt lần lượt từng khoá học in thông tin ra\n",
    "            for kh in self.khoaHoc:\n",
    "                print(kh)\n",
    "                kh.InThongTinKH()\n"
   ]
  },
  {
   "cell_type": "code",
   "execution_count": 20,
   "metadata": {},
   "outputs": [],
   "source": [
    "hv1 = HocVien(\"HV1\", \"Hiền\", '1994')\n",
    "hv2 = HocVien(\"HV2\", \"Thu\", '1998')"
   ]
  },
  {
   "cell_type": "code",
   "execution_count": 24,
   "metadata": {},
   "outputs": [
    {
     "name": "stdout",
     "output_type": "stream",
     "text": [
      "<__main__.KhoaHoc object at 0x10a78cd90>\n",
      "-- THÔNG TIN KHOÁ HỌC ---\n",
      "\n",
      "Mã khoá học: BD01\n",
      "\\Tên khoá học: Big data\n",
      "\n",
      "Hình thức: Online\n",
      "\n",
      "Học phí: 1200\n",
      "<__main__.KhoaHoc object at 0x10a78cf70>\n",
      "-- THÔNG TIN KHOÁ HỌC ---\n",
      "\n",
      "Mã khoá học: PY01\n",
      "\\Tên khoá học: Python cơ bản\n",
      "\n",
      "Hình thức: Offline\n",
      "\n",
      "Học phí: 1000\n"
     ]
    }
   ],
   "source": [
    "hv1.InToanBoThongTin()"
   ]
  },
  {
   "cell_type": "code",
   "execution_count": 21,
   "metadata": {},
   "outputs": [
    {
     "name": "stdout",
     "output_type": "stream",
     "text": [
      "Học viên Hiền đã đăng ký khoá Big data thành công\n"
     ]
    }
   ],
   "source": [
    "hv1.dangKyKhoaHoc(kh2)"
   ]
  },
  {
   "cell_type": "code",
   "execution_count": 23,
   "metadata": {},
   "outputs": [
    {
     "name": "stdout",
     "output_type": "stream",
     "text": [
      "Học viên Hiền đã đăng ký khoá Python cơ bản thành công\n"
     ]
    }
   ],
   "source": [
    "hv1.dangKyKhoaHoc(kh1)"
   ]
  },
  {
   "cell_type": "code",
   "execution_count": 8,
   "metadata": {},
   "outputs": [],
   "source": [
    "kh1 = KhoaHoc('PY01', \"Python cơ bản\", \"Offline\", 1000)\n",
    "kh2 = KhoaHoc('BD01', \"Big data\", \"Online\", 1200)\n",
    "kh3 = KhoaHoc('SD01', \"Phân tích dữ liệu\", \"Online & Offline\", 1100)"
   ]
  },
  {
   "cell_type": "code",
   "execution_count": 7,
   "metadata": {},
   "outputs": [],
   "source": []
  },
  {
   "cell_type": "code",
   "execution_count": null,
   "metadata": {},
   "outputs": [],
   "source": []
  }
 ],
 "metadata": {
  "kernelspec": {
   "display_name": "Python 3",
   "language": "python",
   "name": "python3"
  },
  "language_info": {
   "codemirror_mode": {
    "name": "ipython",
    "version": 3
   },
   "file_extension": ".py",
   "mimetype": "text/x-python",
   "name": "python",
   "nbconvert_exporter": "python",
   "pygments_lexer": "ipython3",
   "version": "3.8.19"
  }
 },
 "nbformat": 4,
 "nbformat_minor": 2
}
