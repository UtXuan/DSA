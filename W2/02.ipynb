{
 "cells": [
  {
   "cell_type": "code",
   "execution_count": 22,
   "metadata": {},
   "outputs": [
    {
     "name": "stdout",
     "output_type": "stream",
     "text": [
      "Hello world\n"
     ]
    }
   ],
   "source": [
    "print(\"Hello world\")"
   ]
  },
  {
   "cell_type": "code",
   "execution_count": 23,
   "metadata": {},
   "outputs": [
    {
     "name": "stdout",
     "output_type": "stream",
     "text": [
      "Hello world\n"
     ]
    }
   ],
   "source": [
    "# function:\n",
    "# không có kết quả trả về \n",
    "def H():\n",
    "    print(\"Hello world\")\n",
    "\n",
    "H()  "
   ]
  },
  {
   "cell_type": "code",
   "execution_count": 24,
   "metadata": {},
   "outputs": [
    {
     "data": {
      "text/plain": [
       "'Hello world'"
      ]
     },
     "execution_count": 24,
     "metadata": {},
     "output_type": "execute_result"
    }
   ],
   "source": [
    "# function:\n",
    "#  có kết quả trả về \n",
    "def H():\n",
    "    return \"Hello world\"\n",
    "\n",
    "H()  "
   ]
  },
  {
   "cell_type": "code",
   "execution_count": null,
   "metadata": {},
   "outputs": [],
   "source": []
  },
  {
   "cell_type": "code",
   "execution_count": 25,
   "metadata": {},
   "outputs": [
    {
     "data": {
      "text/plain": [
       "'Hello world'"
      ]
     },
     "execution_count": 25,
     "metadata": {},
     "output_type": "execute_result"
    }
   ],
   "source": [
    "s = H()\n",
    "s"
   ]
  },
  {
   "cell_type": "code",
   "execution_count": 26,
   "metadata": {},
   "outputs": [
    {
     "name": "stdout",
     "output_type": "stream",
     "text": [
      "2\n"
     ]
    }
   ],
   "source": [
    "# local\n",
    "a = 2\n",
    "def sum():\n",
    "    a = 1\n",
    "    b = 2\n",
    "    return a+b\n",
    "\n",
    "print(a)\n",
    "\n"
   ]
  },
  {
   "cell_type": "code",
   "execution_count": 27,
   "metadata": {},
   "outputs": [
    {
     "data": {
      "text/plain": [
       "3"
      ]
     },
     "execution_count": 27,
     "metadata": {},
     "output_type": "execute_result"
    }
   ],
   "source": [
    "# glocal\n",
    "a = 1\n",
    "b = 2\n",
    "def sum(a, b):\n",
    "    return a+b\n",
    "\n",
    "c = sum(a,b)\n",
    "c\n",
    "\n"
   ]
  },
  {
   "cell_type": "code",
   "execution_count": 28,
   "metadata": {},
   "outputs": [
    {
     "name": "stdout",
     "output_type": "stream",
     "text": [
      "Tuổi của bạn là 1\n",
      "Tuổi của bạn là 1\n"
     ]
    }
   ],
   "source": [
    "tuoi = input(\"Nhập tuổi của bạn: \")\n",
    "print(f\"Tuổi của bạn là {tuoi}\")\n",
    "print(\"Tuổi của bạn là {}\".format(tuoi))"
   ]
  },
  {
   "cell_type": "markdown",
   "metadata": {},
   "source": [
    "Viết chương trình nhập vào bán kính của một hình tròn và tính diện tích của nó.\n",
    "Viết chương trình tìm số lớn nhất trong một list.\n",
    "Viết chương trình tìm số nhỏ nhất trong một list.\n",
    "Viết chương trình tìm tổng các số trong một list.\n"
   ]
  },
  {
   "cell_type": "code",
   "execution_count": 29,
   "metadata": {},
   "outputs": [
    {
     "data": {
      "text/plain": [
       "float"
      ]
     },
     "execution_count": 29,
     "metadata": {},
     "output_type": "execute_result"
    }
   ],
   "source": [
    "bk = float(input(\"Nhập bán kinh:\"))\n",
    "type(bk)"
   ]
  },
  {
   "cell_type": "markdown",
   "metadata": {},
   "source": [
    "## **Nhập bán kính, Tính diện tích hình tròn**\n"
   ]
  },
  {
   "cell_type": "code",
   "execution_count": 30,
   "metadata": {},
   "outputs": [
    {
     "name": "stdout",
     "output_type": "stream",
     "text": [
      "Diện tích hình tròn:  12.56\n"
     ]
    }
   ],
   "source": [
    "# cách 1: nhập bên trong\n",
    "def S():\n",
    "    R = float(input(\"Nhập bán kinh:\"))\n",
    "    S = 3.14 * R * R\n",
    "    print(\"Diện tích hình tròn: \", S)\n",
    "\n",
    "S()\n"
   ]
  },
  {
   "cell_type": "code",
   "execution_count": 31,
   "metadata": {},
   "outputs": [
    {
     "name": "stdout",
     "output_type": "stream",
     "text": [
      "Diện tích hình tròn:  28.259999999999998\n"
     ]
    }
   ],
   "source": [
    "# cách 2: nhập bên ngoài truyền vô\n",
    "banKinh = float(input(\"Nhập bán kinh:\"))\n",
    "\n",
    "def S(banKinh):\n",
    "    S = 3.14 * banKinh * banKinh\n",
    "    print(\"Diện tích hình tròn: \", S)\n",
    "\n",
    "S(banKinh)\n"
   ]
  },
  {
   "cell_type": "markdown",
   "metadata": {},
   "source": [
    "# nhập danh sách n số, tìm danh sách số chẵn và danh sách số lẻ\n"
   ]
  },
  {
   "cell_type": "code",
   "execution_count": 32,
   "metadata": {},
   "outputs": [
    {
     "name": "stdout",
     "output_type": "stream",
     "text": [
      "['1']\n",
      "['1', '2']\n",
      "['1', '2', '3']\n",
      "['1', '2', '3', '4']\n"
     ]
    }
   ],
   "source": [
    "n = int(input(\"Nhập số lượng: \"))\n",
    "ds = []\n",
    "\n",
    "for item in range(n):\n",
    "    so = input(\"Nhập số: \")\n",
    "    ds.append(so)\n",
    "    print(ds)\n"
   ]
  },
  {
   "cell_type": "code",
   "execution_count": 33,
   "metadata": {},
   "outputs": [
    {
     "name": "stdout",
     "output_type": "stream",
     "text": [
      "Danh sách số chẵn:  [2, 4]\n",
      "Danh sách số lẻ:  [1, 3]\n"
     ]
    }
   ],
   "source": [
    "# viết từng dòng ngoài\n",
    "dsc= []\n",
    "dsl=[]\n",
    "\n",
    "n = int(input(\"Nhập số lượng: \"))\n",
    "\n",
    "for i in range(n):\n",
    "    so = int(input(\"Nhập số : \"))\n",
    "\n",
    "    if (so%2==0):\n",
    "        dsc.append(so)\n",
    "    else: \n",
    "        dsl.append(so)\n",
    "\n",
    "print(\"Danh sách số chẵn: \", dsc)\n",
    "print(\"Danh sách số lẻ: \", dsl)\n",
    "    "
   ]
  },
  {
   "cell_type": "code",
   "execution_count": 35,
   "metadata": {},
   "outputs": [
    {
     "name": "stdout",
     "output_type": "stream",
     "text": [
      "Danh sách số chẵn:  [6, 2]\n",
      "Danh sách số lẻ:  [7, 5]\n"
     ]
    }
   ],
   "source": [
    "# viết function\n",
    "def KiemTraSoChanLe():\n",
    "    dsc= []\n",
    "    dsl=[]\n",
    "\n",
    "    n = int(input(\"Nhập số lượng: \"))\n",
    "\n",
    "    for i in range(n):\n",
    "        so = int(input(\"Nhập số : \"))\n",
    "\n",
    "        if (so%2==0):\n",
    "            dsc.append(so)\n",
    "        else: \n",
    "            dsl.append(so)\n",
    "    print(\"Danh sách số chẵn: \", dsc)\n",
    "    print(\"Danh sách số lẻ: \", dsl)\n",
    "    \n",
    "KiemTraSoChanLe()"
   ]
  },
  {
   "cell_type": "code",
   "execution_count": null,
   "metadata": {},
   "outputs": [
    {
     "name": "stdout",
     "output_type": "stream",
     "text": [
      "Danh sách số chẵn:  [2]\n",
      "Danh sách số lẻ:  [1, 3]\n"
     ]
    }
   ],
   "source": [
    "def KiemTraSoChanLe():\n",
    "    dsc= []\n",
    "    dsl=[]\n",
    "\n",
    "    nhap= int(input(\"Nhập số lượng: \"))\n",
    "\n",
    "    for i in range(nhap):\n",
    "        so = int(input(\"Nhập số : \"))\n",
    "\n",
    "        if (so%2==0):\n",
    "            dsc.append(so)\n",
    "        else: \n",
    "            dsl.append(so)\n",
    "    # print(\"Danh sách số chẵn: \", dsc)\n",
    "    # print(\"Danh sách số lẻ: \", dsl)\n",
    "    return dsc, dsl\n",
    "\n",
    "a, b = KiemTraSoChanLe()\n",
    "print(\"Danh sách số chẵn: \", a)\n",
    "print(\"Danh sách số lẻ: \", b)"
   ]
  },
  {
   "cell_type": "markdown",
   "metadata": {},
   "source": [
    "## **Tìm số lớn nhất trong danh sách**\n"
   ]
  },
  {
   "cell_type": "code",
   "execution_count": null,
   "metadata": {},
   "outputs": [
    {
     "data": {
      "text/plain": [
       "4"
      ]
     },
     "execution_count": 14,
     "metadata": {},
     "output_type": "execute_result"
    }
   ],
   "source": [
    "a =[1,2,3,4]\n",
    "def SLN(a):\n",
    "    max=a[0]\n",
    "    for i in range(len(a)):\n",
    "        if(a[i]>max):\n",
    "            max=a[i]\n",
    "    return max\n",
    "\n",
    "SLN(a)"
   ]
  },
  {
   "cell_type": "code",
   "execution_count": null,
   "metadata": {},
   "outputs": [
    {
     "name": "stdout",
     "output_type": "stream",
     "text": [
      "Danh sách:  [1.0, 2.0, 3.0, 4.0]\n",
      "Số lớn nhất trong danh sách là:  4.0\n"
     ]
    }
   ],
   "source": [
    "# nhập từng số vào danh sách trước\n",
    "def DS():\n",
    "    n = int(input(\"Nhập số lượng: \"))\n",
    "    ds = []\n",
    "\n",
    "    for item in range(n):\n",
    "        so = float(input(\"Nhập số: \"))\n",
    "        ds.append(so)\n",
    "    return ds\n",
    "\n",
    "# tìm số lớn nhất trong danh sách\n",
    "def SLN(a): \n",
    "    max = a[0]\n",
    "    for i in range(len(a)):\n",
    "        if a[i] > max:\n",
    "            max = a[i]\n",
    "    return max\n",
    "\n",
    "\n",
    "danh_sach = DS()\n",
    "print(\"Danh sách: \", danh_sach)\n",
    "print(\"Số lớn nhất trong danh sách là: \", SLN(danh_sach))"
   ]
  },
  {
   "cell_type": "markdown",
   "metadata": {},
   "source": [
    "## **Kiểm tra số nguyên tố**\n"
   ]
  },
  {
   "cell_type": "code",
   "execution_count": 1,
   "metadata": {},
   "outputs": [],
   "source": [
    "def is_prime(n):\n",
    "    if n<=1:\n",
    "        return False\n",
    "\n",
    "    for i in range(2,n):\n",
    "        if n%i == 0:\n",
    "            return False\n",
    "    return True"
   ]
  },
  {
   "cell_type": "code",
   "execution_count": 3,
   "metadata": {},
   "outputs": [
    {
     "data": {
      "text/plain": [
       "True"
      ]
     },
     "execution_count": 3,
     "metadata": {},
     "output_type": "execute_result"
    }
   ],
   "source": [
    "is_prime(2)"
   ]
  }
 ],
 "metadata": {
  "kernelspec": {
   "display_name": "Python 3",
   "language": "python",
   "name": "python3"
  },
  "language_info": {
   "codemirror_mode": {
    "name": "ipython",
    "version": 3
   },
   "file_extension": ".py",
   "mimetype": "text/x-python",
   "name": "python",
   "nbconvert_exporter": "python",
   "pygments_lexer": "ipython3",
   "version": "3.8.19"
  }
 },
 "nbformat": 4,
 "nbformat_minor": 2
}
