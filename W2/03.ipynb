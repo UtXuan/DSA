{
 "cells": [
  {
   "cell_type": "code",
   "execution_count": 37,
   "metadata": {},
   "outputs": [],
   "source": [
    "# tạo danh sách gồm 3 sinh viên\n",
    "my_lst = [\n",
    "        {\n",
    "            \"maSV\" : 1,\n",
    "            \"hoTen\" : \"Hiền\",\n",
    "            \"diemVan\": 8,\n",
    "            \"diemToan\" : 9,\n",
    "            \"diemLy\" : 6 \n",
    "        },\n",
    "        {\n",
    "            \"maSV\" : 2,\n",
    "            \"hoTen1\" : \"Tâm\",\n",
    "            \"Van\" : 8.6,\n",
    "            'Toan' : 9.2,\n",
    "            \"Ly\" : 6.5 \n",
    "        },\n",
    "        {\n",
    "            \"maSV\" : 3,\n",
    "            \"hoTen\" : \"Thu\",\n",
    "            \"diemVan\" : 8.2,\n",
    "            \"diemToan\" : 9.0,\n",
    "            \"diemLy\" : 7 \n",
    "        }]\n"
   ]
  },
  {
   "cell_type": "code",
   "execution_count": 51,
   "metadata": {},
   "outputs": [],
   "source": [
    "# OOP\n",
    "\n",
    "class SinhVien:\n",
    "    def __init__(self, maSV, hoTen, diemVan, diemToan, diemLy):\n",
    "        # thuộc tính\n",
    "        self.maSV = maSV\n",
    "        self.hoTen = hoTen\n",
    "        self.diemVan = diemVan\n",
    "        self.diemToan = diemToan\n",
    "        self.diemLy = diemLy\n",
    "\n",
    "    # phương thức\n",
    "    def tinhTB(self):\n",
    "        return (self.diemVan + self.diemToan +self.diemLy) /3\n",
    "\n",
    "        "
   ]
  },
  {
   "cell_type": "code",
   "execution_count": 50,
   "metadata": {},
   "outputs": [
    {
     "data": {
      "text/plain": [
       "7.0"
      ]
     },
     "execution_count": 50,
     "metadata": {},
     "output_type": "execute_result"
    }
   ],
   "source": [
    "sv1 = SinhVien(1, \"hiền\", 6,7,8)\n",
    "sv1.tinhTB()"
   ]
  },
  {
   "cell_type": "code",
   "execution_count": 53,
   "metadata": {},
   "outputs": [
    {
     "data": {
      "text/plain": [
       "4.766666666666667"
      ]
     },
     "execution_count": 53,
     "metadata": {},
     "output_type": "execute_result"
    }
   ],
   "source": [
    "sv2= SinhVien(2, \"Tâm\", 6.5, 7.8, 0)\n",
    "sv2.tinhTB()"
   ]
  },
  {
   "cell_type": "markdown",
   "metadata": {},
   "source": [
    "Nhân Viên: maNV, hoTen, luongCB, heSoLuong\n",
    "    tinhLuong = LuongCB * heSoLuong\n",
    "QUản lý: maNV, hoTen, LuongCB, heSoLuong, bonus\n",
    "    tinhLuong = LuongCB * heSoLuong + bonus\n",
    "GiamDoc: maNV, hoTen, LuongCB, heSoLuong, bonus, dsCN\n",
    "    tinhLuong = LuongCB * heSoLuong + bonus * 2"
   ]
  },
  {
   "cell_type": "code",
   "execution_count": 54,
   "metadata": {},
   "outputs": [],
   "source": [
    "class NhanVien:\n",
    "    def __init__(self, maNV, hoTen, luongCB, heSoLuong):\n",
    "        self.maNV = maNV\n",
    "        self.hoTen = hoTen\n",
    "        self.luongCB = luongCB\n",
    "        self.heSoLuong = heSoLuong\n",
    "\n",
    "    def tinhLuong(self):\n",
    "        return self.luongCB * self.heSoLuong"
   ]
  },
  {
   "cell_type": "code",
   "execution_count": null,
   "metadata": {},
   "outputs": [],
   "source": [
    "# overloading: nhiều tham số -> khác triển khai\n",
    "# overriding: cùng tham số -> khác triển khai"
   ]
  },
  {
   "cell_type": "code",
   "execution_count": 62,
   "metadata": {},
   "outputs": [],
   "source": [
    "class QuanLy(NhanVien):\n",
    "    def __init__(self, maNV, hoTen, luongCB, heSoLuong, bonus):\n",
    "        super().__init__(maNV, hoTen, luongCB, heSoLuong)\n",
    "        self.bonus = bonus\n",
    "    \n",
    "    def tinhLuong(self):\n",
    "        return self.luongCB * self.heSoLuong + self.bonus  "
   ]
  },
  {
   "cell_type": "code",
   "execution_count": 68,
   "metadata": {},
   "outputs": [],
   "source": [
    "class GiamDoc(NhanVien):\n",
    "    def __init__(self, maNV, hoTen, luongCB, heSoLuong, bonus, dsCN):\n",
    "        super().__init__(maNV, hoTen, luongCB, heSoLuong)\n",
    "        self.bonus = bonus\n",
    "        self.dsCN = dsCN\n",
    "    \n",
    "    def tinhLuong(self):\n",
    "        return self.luongCB * self.heSoLuong + self.bonus * 2"
   ]
  },
  {
   "cell_type": "code",
   "execution_count": 67,
   "metadata": {},
   "outputs": [
    {
     "name": "stdout",
     "output_type": "stream",
     "text": [
      "Lương của NV:  240\n",
      "Lương của QL:  340\n",
      "Lương của GĐ:  440\n"
     ]
    }
   ],
   "source": [
    "nv1 = NhanVien(1, \"Hiền\", 120, 2)\n",
    "print(\"Lương của NV: \", nv1.tinhLuong())\n",
    "ql1 = QuanLy(2, \"Tâm\", 120, 2, 100)\n",
    "print(\"Lương của QL: \", ql1.tinhLuong())\n",
    "gd1 = GiamDoc(3, \"Thu\", 120, 2, 100, 1)\n",
    "print(\"Lương của GĐ: \", gd1.tinhLuong())"
   ]
  },
  {
   "cell_type": "code",
   "execution_count": null,
   "metadata": {},
   "outputs": [],
   "source": []
  },
  {
   "cell_type": "code",
   "execution_count": null,
   "metadata": {},
   "outputs": [],
   "source": []
  },
  {
   "cell_type": "code",
   "execution_count": 29,
   "metadata": {},
   "outputs": [
    {
     "name": "stdout",
     "output_type": "stream",
     "text": [
      "{'maSV': 1, 'hoTen': 'Hiền', 'diemVan': 8, 'diemToan': 9, 'diemLy': 6}\n",
      "điểm trung bình 7.666666666666667\n",
      "{'maSV': 2, 'hoTen': 'Tâm', 'diemVan': 8.6, 'diemToan': 9.2, 'diemLy': 6.5}\n",
      "điểm trung bình 8.1\n",
      "{'maSV': 3, 'hoTen': 'Thu', 'diemVan': 8.2, 'diemToan': 9.0, 'diemLy': 7}\n",
      "điểm trung bình 8.066666666666666\n"
     ]
    }
   ],
   "source": [
    "for i in range(len(my_lst)):\n",
    "    dtb = (my_lst[i][\"diemVan\"]+my_lst[i][\"diemToan\"]+my_lst[i][\"diemLy\"])/3\n",
    "    # print(f\"MaSV: {my_lst[i][\"maSV\"]}\")\n",
    "    print(f\"{my_lst[i]}\")???\n",
    "    print(f\"điểm trung bình {dtb}\")\n",
    "    # print(f\"MaSV: {my_lst[i][\"maSV\"]}\", f\"\\n điểm trung bình {dtb}\")\n",
    "    "
   ]
  },
  {
   "cell_type": "code",
   "execution_count": 36,
   "metadata": {},
   "outputs": [
    {
     "name": "stdout",
     "output_type": "stream",
     "text": [
      "Họ tên: Hiền, \n",
      "Mã SV: 1, \n",
      "Điểm trung bình: 7.666666666666667\n",
      "        \n",
      "Họ tên: Tâm, \n",
      "Mã SV: 2, \n",
      "Điểm trung bình: 8.1\n",
      "        \n",
      "Họ tên: Thu, \n",
      "Mã SV: 3, \n",
      "Điểm trung bình: 8.066666666666666\n",
      "        \n"
     ]
    }
   ],
   "source": [
    "def in_thong_tin():\n",
    "    for sv in my_lst:\n",
    "        toan = sv['diemToan']\n",
    "        van = sv['diemVan']\n",
    "        hoa = sv['diemLy']\n",
    "\n",
    "        diemTB = TinhDiemTB(toan, van, hoa)\n",
    "        print(f\"\"\"Họ tên: {sv['hoTen']}, \\nMã SV: { sv['maSV']}, \\nĐiểm trung bình: {diemTB}\n",
    "        \"\"\")\n",
    "        # print(\"Họ tên: \", sv['hoTen'], \"\\nMã SV: \", sv['maSV'], \"\\nĐiểm trung bình: \", diemTB, \"\\n\")\n",
    "\n",
    "in_thong_tin()"
   ]
  },
  {
   "cell_type": "code",
   "execution_count": 8,
   "metadata": {},
   "outputs": [
    {
     "data": {
      "text/plain": [
       "8"
      ]
     },
     "execution_count": 8,
     "metadata": {},
     "output_type": "execute_result"
    }
   ],
   "source": [
    "my_lst[0][\"hoTen\"]\n",
    "my_lst[0][\"diemVan\"]"
   ]
  },
  {
   "cell_type": "code",
   "execution_count": 9,
   "metadata": {},
   "outputs": [],
   "source": [
    "# viết 1 hàm tính điểm trung bình\n",
    "def TinhDiemTB(van, toan, ly):\n",
    "    dtb = (van+toan+ly)/3\n",
    "    return dtb "
   ]
  },
  {
   "cell_type": "code",
   "execution_count": 11,
   "metadata": {},
   "outputs": [
    {
     "name": "stdout",
     "output_type": "stream",
     "text": [
      "Hiền\n",
      "8\n",
      "9\n",
      "6\n"
     ]
    }
   ],
   "source": [
    "print(my_lst[0][\"hoTen\"])\n",
    "print(my_lst[0][\"diemVan\"])\n",
    "print(my_lst[0][\"diemToan\"])\n",
    "print(my_lst[0][\"diemLy\"])"
   ]
  },
  {
   "cell_type": "code",
   "execution_count": 14,
   "metadata": {},
   "outputs": [],
   "source": [
    "van =my_lst[0][\"diemVan\"]\n",
    "dtb = TinhDiemTB(van , my_lst[0][\"diemToan\"], my_lst[0][\"diemLy\"])"
   ]
  },
  {
   "cell_type": "code",
   "execution_count": 15,
   "metadata": {},
   "outputs": [
    {
     "data": {
      "text/plain": [
       "7.666666666666667"
      ]
     },
     "execution_count": 15,
     "metadata": {},
     "output_type": "execute_result"
    }
   ],
   "source": [
    "dtb"
   ]
  }
 ],
 "metadata": {
  "kernelspec": {
   "display_name": "Python 3",
   "language": "python",
   "name": "python3"
  },
  "language_info": {
   "codemirror_mode": {
    "name": "ipython",
    "version": 3
   },
   "file_extension": ".py",
   "mimetype": "text/x-python",
   "name": "python",
   "nbconvert_exporter": "python",
   "pygments_lexer": "ipython3",
   "version": "3.8.19"
  }
 },
 "nbformat": 4,
 "nbformat_minor": 2
}
