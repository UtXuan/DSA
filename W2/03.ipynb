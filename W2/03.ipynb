{
 "cells": [
  {
   "cell_type": "code",
   "execution_count": 95,
   "metadata": {},
   "outputs": [],
   "source": [
    "ds_SV = [{\n",
    "    'maSV': 1,\n",
    "    'hoTen': 'Phạm Thị Xuân Hiền',\n",
    "    'diemToan': 8,\n",
    "    'diemVan': 8,\n",
    "    'diemHoa': 9\n",
    "    },\n",
    "    {\n",
    "    'maSV': 2,\n",
    "    'hoTen': 'Nguyễn Thành Chí Tâm',\n",
    "    'diemToan': 8.5,\n",
    "    'diemVan': 8.5,\n",
    "    'diemHoa': 10\n",
    "    },\n",
    "    {\n",
    "    'maSV': 1,\n",
    "    'hoTen': 'Lê Ngọc Thu',\n",
    "    'diemToan': 7,\n",
    "    'diemVan': 5,\n",
    "    'diemHoa': 9\n",
    "    }\n",
    "]\n"
   ]
  },
  {
   "cell_type": "code",
   "execution_count": 96,
   "metadata": {},
   "outputs": [],
   "source": [
    "def tinh_diem_TB(toan, van, hoa):\n",
    "    return (toan+van+hoa)/3"
   ]
  },
  {
   "cell_type": "code",
   "execution_count": 97,
   "metadata": {},
   "outputs": [
    {
     "name": "stdout",
     "output_type": "stream",
     "text": [
      "Họ tên:  Phạm Thị Xuân Hiền \n",
      "Mã SV:  1 \n",
      "Điểm trung bình:  8.333333333333334 \n",
      "\n",
      "Họ tên:  Nguyễn Thành Chí Tâm \n",
      "Mã SV:  2 \n",
      "Điểm trung bình:  9.0 \n",
      "\n",
      "Họ tên:  Lê Ngọc Thu \n",
      "Mã SV:  1 \n",
      "Điểm trung bình:  7.0 \n",
      "\n"
     ]
    }
   ],
   "source": [
    "def in_thong_tin_lonhon_5():\n",
    "    for sv in ds_SV:\n",
    "        toan = sv['diemToan']\n",
    "        van = sv['diemVan']\n",
    "        hoa = sv['diemHoa']\n",
    "\n",
    "        diemTB = tinh_diem_TB(toan, van, hoa)\n",
    "        if diemTB >= 5:\n",
    "            print(\"Họ tên: \", sv['hoTen'], \"\\nMã SV: \", sv['maSV'], \"\\nĐiểm trung bình: \", diemTB, \"\\n\")\n",
    "\n",
    "in_thong_tin_lonhon_5()"
   ]
  },
  {
   "cell_type": "code",
   "execution_count": 98,
   "metadata": {},
   "outputs": [
    {
     "data": {
      "text/plain": [
       "8"
      ]
     },
     "execution_count": 98,
     "metadata": {},
     "output_type": "execute_result"
    }
   ],
   "source": [
    "sv1 = ds_SV[0]\n",
    "toan = sv1['diemToan']\n",
    "toan"
   ]
  },
  {
   "cell_type": "markdown",
   "metadata": {},
   "source": [
    "## **OOP**\n"
   ]
  },
  {
   "cell_type": "code",
   "execution_count": 99,
   "metadata": {},
   "outputs": [],
   "source": [
    "# tạo class trong Python\n",
    "# tên class sẽ viết liền nhau, chữ cái đầu luôn viết hoa\n",
    "# bắt buộc phải có phương thức khởi tạo\n",
    "# self: trong phương thức khởi tạo phải kêu tao vào (chỉ chính nó)\n",
    "\n",
    "# hạn chế quá trình khai báo sai key \n",
    "class SinhVien:\n",
    "\n",
    "    def __init__(self, maSV, hoTen, diemToan, diemVan, diemHoa):\n",
    "        self.diemToan = diemToan\n",
    "        self.diemVan = diemVan\n",
    "        self.diemHoa = diemHoa\n",
    "        self.maSV = maSV\n",
    "        self.hoTen = hoTen\n",
    "\n",
    "    def tinh_diem_TB(self):\n",
    "        return (self.diemToan + self.diemVan + self.diemHoa)/3\n",
    "\n",
    "sv1 = SinhVien(1, 'Tâm', 10, 9, 8)\n"
   ]
  },
  {
   "cell_type": "code",
   "execution_count": 100,
   "metadata": {},
   "outputs": [
    {
     "data": {
      "text/plain": [
       "'Tâm'"
      ]
     },
     "execution_count": 100,
     "metadata": {},
     "output_type": "execute_result"
    }
   ],
   "source": [
    "# truy xuất các thuộc tính trong class\n",
    "# hàm gọi là phương thức\n",
    "# biến gọi là thuộc tính\n",
    "sv1.maSV\n",
    "sv1.hoTen"
   ]
  },
  {
   "cell_type": "code",
   "execution_count": 101,
   "metadata": {},
   "outputs": [
    {
     "data": {
      "text/plain": [
       "9.0"
      ]
     },
     "execution_count": 101,
     "metadata": {},
     "output_type": "execute_result"
    }
   ],
   "source": [
    "sv1.tinh_diem_TB()"
   ]
  },
  {
   "cell_type": "markdown",
   "metadata": {},
   "source": []
  },
  {
   "cell_type": "code",
   "execution_count": 102,
   "metadata": {},
   "outputs": [],
   "source": [
    "class NhanVien:\n",
    "\n",
    "    def __init__(self, maNV, hoTen, luongCoBan, heSoLuong, chucVu):\n",
    "        self.maNV = maNV\n",
    "        self.hoTen = hoTen\n",
    "        self.luongCoBan = luongCoBan\n",
    "        self.heSoLuong = heSoLuong\n",
    "        self.chucVu = chucVu\n",
    "        self.matkhau = \"1234\"\n",
    "\n",
    "    def tinhLuong(self):\n",
    "        return self.luongCoBan * self.heSoLuong\n",
    "\n",
    "    def lay_mk(self):\n",
    "        return self.matkhau + \"1đấchckhaschjadhsda\"\n",
    "\n",
    "        "
   ]
  },
  {
   "cell_type": "code",
   "execution_count": 103,
   "metadata": {},
   "outputs": [],
   "source": [
    "# tính chất kế thừa\n",
    "class QuanLy(NhanVien):\n",
    "    def __init__(self, maNV, hoTen, luongCoBan, heSoLuong, chucVu, bonus):\n",
    "        super().__init__(maNV, hoTen, luongCoBan, heSoLuong, chucVu)\n",
    "        self.bonus = bonus\n",
    "\n",
    "    def tinhLuong(self):\n",
    "        return self.luongCoBan * self.heSoLuong + self.bonus\n",
    "        "
   ]
  },
  {
   "cell_type": "code",
   "execution_count": 104,
   "metadata": {},
   "outputs": [],
   "source": [
    "\n",
    "class GiamDoc(NhanVien):\n",
    "    def __init__(self, maNV, hoTen, luongCoBan, heSoLuong, chucVu, bonus):\n",
    "        # Gọi phương thức khởi tạo lớp cha đúng cách\n",
    "        super().__init__(maNV, hoTen, luongCoBan, heSoLuong, chucVu)\n",
    "        # Định nghĩa thuộc tính của riêng lớp con\n",
    "        self.bonus = bonus\n",
    "        \n",
    "    def tinhLuong(self):\n",
    "        return self.luongCoBan * self.heSoLuong + self.bonus * 2"
   ]
  },
  {
   "cell_type": "code",
   "execution_count": 105,
   "metadata": {},
   "outputs": [],
   "source": [
    "# overloading: nhiều tham số -> khác triển khai\n",
    "# overriding: cùng tham số -> khác triển khai"
   ]
  },
  {
   "cell_type": "code",
   "execution_count": 106,
   "metadata": {},
   "outputs": [],
   "source": [
    "nhanvienC = NhanVien(3,\"Hiền\", 100, \"mentor\", 2)"
   ]
  },
  {
   "cell_type": "code",
   "execution_count": 107,
   "metadata": {},
   "outputs": [
    {
     "data": {
      "text/plain": [
       "'12341đấchckhaschjadhsda'"
      ]
     },
     "execution_count": 107,
     "metadata": {},
     "output_type": "execute_result"
    }
   ],
   "source": [
    "nhanvienC.lay_mk()"
   ]
  },
  {
   "cell_type": "code",
   "execution_count": null,
   "metadata": {},
   "outputs": [],
   "source": []
  },
  {
   "cell_type": "code",
   "execution_count": 108,
   "metadata": {},
   "outputs": [],
   "source": [
    "quanlyC = GiamDoc(1, \"Hiền\", 100, \"mentor\", 2, 200)"
   ]
  },
  {
   "cell_type": "markdown",
   "metadata": {},
   "source": [
    "## **abstract**"
   ]
  },
  {
   "cell_type": "code",
   "execution_count": 110,
   "metadata": {},
   "outputs": [],
   "source": [
    "from abc import ABC, abstractmethod\n",
    "\n",
    "class Car(ABC):\n",
    "    def __init__(self):\n",
    "        self.banhxe = 4\n",
    "        self.xang = 100  # Lít\n",
    "        self.kinh = True\n",
    "        self.linhkien = []\n",
    "    \n",
    "    @abstractmethod\n",
    "    def drive(self):\n",
    "        pass\n",
    "\n",
    "class Mercedes(Car):\n",
    "    def __init__(self):\n",
    "        super().__init__()\n",
    "    \n",
    "    def drive(self):\n",
    "        return \"Mercedes is driving\""
   ]
  },
  {
   "cell_type": "code",
   "execution_count": 111,
   "metadata": {},
   "outputs": [
    {
     "name": "stdout",
     "output_type": "stream",
     "text": [
      "4\n",
      "100\n",
      "True\n",
      "Mercedes is driving\n",
      "True\n",
      "True\n"
     ]
    }
   ],
   "source": [
    "\n",
    "merc = Mercedes()\n",
    "\n",
    "\n",
    "print(merc.banhxe)  # 4\n",
    "print(merc.xang)    # 100\n",
    "print(merc.kinh)    # True\n",
    "\n",
    "# Gọi phương thức drive\n",
    "print(merc.drive())  \n",
    "\n",
    "# Thay đổi giá trị thuộc tính\n",
    "merc.xang = 80\n",
    "merc.linhkien.append(\"Động cơ V8\")\n",
    "\n",
    "# Kiểm tra kiểu đối tượng\n",
    "print(isinstance(merc, Mercedes))  \n",
    "print(isinstance(merc, Car))      "
   ]
  },
  {
   "cell_type": "markdown",
   "metadata": {},
   "source": []
  }
 ],
 "metadata": {
  "kernelspec": {
   "display_name": "Python 3",
   "language": "python",
   "name": "python3"
  },
  "language_info": {
   "codemirror_mode": {
    "name": "ipython",
    "version": 3
   },
   "file_extension": ".py",
   "mimetype": "text/x-python",
   "name": "python",
   "nbconvert_exporter": "python",
   "pygments_lexer": "ipython3",
   "version": "3.8.19"
  }
 },
 "nbformat": 4,
 "nbformat_minor": 2
}
